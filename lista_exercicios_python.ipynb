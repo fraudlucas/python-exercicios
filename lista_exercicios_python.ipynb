{
  "nbformat": 4,
  "nbformat_minor": 0,
  "metadata": {
    "colab": {
      "provenance": [],
      "collapsed_sections": [],
      "authorship_tag": "ABX9TyOoDtcUsZt1vdnKvbHsKzcN",
      "include_colab_link": true
    },
    "kernelspec": {
      "name": "python3",
      "display_name": "Python 3"
    },
    "language_info": {
      "name": "python"
    }
  },
  "cells": [
    {
      "cell_type": "markdown",
      "metadata": {
        "id": "view-in-github",
        "colab_type": "text"
      },
      "source": [
        "<a href=\"https://colab.research.google.com/github/fraudlucas/python-exercicios/blob/main/lista_exercicios_python.ipynb\" target=\"_parent\"><img src=\"https://colab.research.google.com/assets/colab-badge.svg\" alt=\"Open In Colab\"/></a>"
      ]
    },
    {
      "cell_type": "markdown",
      "source": [
        "# Lista de exercícios - Python"
      ],
      "metadata": {
        "id": "jmclBmDyOYcD"
      }
    },
    {
      "cell_type": "markdown",
      "source": [
        "Lista de exercícios tirada do site: https://wiki.python.org.br/ListaDeExercicios"
      ],
      "metadata": {
        "id": "iVPkUW_oN3im"
      }
    },
    {
      "cell_type": "markdown",
      "source": [
        "### Estrutura Sequencial, de Decisão, de Repetição"
      ],
      "metadata": {
        "id": "-Pf3VGU7ugo4"
      }
    },
    {
      "cell_type": "markdown",
      "source": [
        "1. Faça um Programa que peça um número e então mostre a mensagem \"O número informado foi [número]\". **[respondido abaixo]**"
      ],
      "metadata": {
        "id": "V-d_ca31u2Ru"
      }
    },
    {
      "cell_type": "code",
      "source": [
        "# Para executar o código, basta clicar no 'play' à esquerda.\n",
        "# Faça seu código abaixo:\n",
        "\n",
        "entrada = input(\"Digite um numero: \")\n",
        "\n",
        "print(\"O número informado foi \" + entrada)"
      ],
      "metadata": {
        "colab": {
          "base_uri": "https://localhost:8080/"
        },
        "id": "cWbElqWYuxHu",
        "outputId": "5b429efe-12a8-4bcd-c4b5-2d1347388e23"
      },
      "execution_count": null,
      "outputs": [
        {
          "output_type": "stream",
          "name": "stdout",
          "text": [
            "Digite um numero: 12\n",
            "O número informado foi 12\n"
          ]
        }
      ]
    },
    {
      "cell_type": "markdown",
      "source": [
        "2. Faça um Programa que peça as 4 notas bimestrais e mostre a média."
      ],
      "metadata": {
        "id": "8Y3VktI9w17-"
      }
    },
    {
      "cell_type": "code",
      "source": [
        "# Para executar o código, basta clicar no 'play' à esquerda.\n",
        "# Faça seu código abaixo:\n",
        "\n"
      ],
      "metadata": {
        "id": "tV_ReDXywpox"
      },
      "execution_count": null,
      "outputs": []
    },
    {
      "cell_type": "markdown",
      "source": [
        "3. Faça um Programa que converta metros para centímetros."
      ],
      "metadata": {
        "id": "KLcVWkz7w-WF"
      }
    },
    {
      "cell_type": "code",
      "source": [
        "# Para executar o código, basta clicar no 'play' à esquerda.\n",
        "# Faça seu código abaixo:\n",
        "\n"
      ],
      "metadata": {
        "id": "0_020mfYxBsN"
      },
      "execution_count": null,
      "outputs": []
    },
    {
      "cell_type": "markdown",
      "source": [
        "4. Faça um Programa que verifique se uma letra digitada é \"F\" ou \"M\". Conforme a letra escrever: F - Feminino, M - Masculino, Sexo Inválido."
      ],
      "metadata": {
        "id": "JC0NLib4xFZN"
      }
    },
    {
      "cell_type": "code",
      "source": [
        "# Para executar o código, basta clicar no 'play' à esquerda.\n",
        "# Faça seu código abaixo:\n",
        "\n"
      ],
      "metadata": {
        "id": "y2FuVUB3xIht"
      },
      "execution_count": null,
      "outputs": []
    },
    {
      "cell_type": "markdown",
      "source": [
        "5. Faça um Programa que verifique se uma letra digitada é vogal ou consoante."
      ],
      "metadata": {
        "id": "NlNgO-ROyZNg"
      }
    },
    {
      "cell_type": "code",
      "source": [
        "# Para executar o código, basta clicar no 'play' à esquerda.\n",
        "# Faça seu código abaixo:\n",
        "\n"
      ],
      "metadata": {
        "id": "juLVqZvMyQ2_"
      },
      "execution_count": null,
      "outputs": []
    },
    {
      "cell_type": "markdown",
      "source": [
        "6. Faça um programa que receba dois números inteiros e gere os números inteiros que estão no intervalo compreendido por eles."
      ],
      "metadata": {
        "id": "FmFekUIHycch"
      }
    },
    {
      "cell_type": "code",
      "source": [
        "# Para executar o código, basta clicar no 'play' à esquerda.\n",
        "# Faça seu código abaixo:\n",
        "\n"
      ],
      "metadata": {
        "id": "vp_rxbYEyRL2"
      },
      "execution_count": null,
      "outputs": []
    },
    {
      "cell_type": "markdown",
      "source": [
        "7. Faça um programa que imprima na tela apenas os números ímpares entre 1 e 50."
      ],
      "metadata": {
        "id": "w4GvUeGNyeQR"
      }
    },
    {
      "cell_type": "code",
      "source": [
        "# Para executar o código, basta clicar no 'play' à esquerda.\n",
        "# Faça seu código abaixo:\n",
        "\n"
      ],
      "metadata": {
        "id": "3ckvV17uyRh7"
      },
      "execution_count": null,
      "outputs": []
    },
    {
      "cell_type": "markdown",
      "source": [
        "8. A série de Fibonacci é formada pela sequência 1,1,2,3,5,8,13,21,34,55,... Faça um programa capaz de gerar a série até o `n−ésimo` termo."
      ],
      "metadata": {
        "id": "1XqYmmLqyru-"
      }
    },
    {
      "cell_type": "code",
      "source": [
        "# Para executar o código, basta clicar no 'play' à esquerda.\n",
        "# Faça seu código abaixo:\n",
        "\n"
      ],
      "metadata": {
        "id": "dZ7jz40TyRxZ"
      },
      "execution_count": null,
      "outputs": []
    },
    {
      "cell_type": "markdown",
      "source": [
        "9. A série de Fibonacci é formada pela sequência 0,1,1,2,3,5,8,13,21,34,55,... Faça um programa que gere a série até que o valor seja maior que 500."
      ],
      "metadata": {
        "id": "b6xgnX4SywY1"
      }
    },
    {
      "cell_type": "code",
      "source": [
        "# Para executar o código, basta clicar no 'play' à esquerda.\n",
        "# Faça seu código abaixo:\n",
        "\n"
      ],
      "metadata": {
        "id": "LMENHOPXySEX"
      },
      "execution_count": null,
      "outputs": []
    },
    {
      "cell_type": "markdown",
      "source": [
        "10. Faça um Programa que peça 2 números inteiros e um número real. Calcule e mostre:\n",
        "*   o produto do dobro do primeiro com metade do segundo .\n",
        "*   a soma do triplo do primeiro com o terceiro.\n",
        "*   o terceiro elevado ao cubo."
      ],
      "metadata": {
        "id": "4RMVnM9vyymu"
      }
    },
    {
      "cell_type": "code",
      "source": [
        "# Para executar o código, basta clicar no 'play' à esquerda.\n",
        "# Faça seu código abaixo:\n",
        "\n"
      ],
      "metadata": {
        "id": "BFAbaxxcySR_"
      },
      "execution_count": null,
      "outputs": []
    },
    {
      "cell_type": "markdown",
      "source": [
        "11. Faça um programa que lê as duas notas parciais obtidas por um aluno numa disciplina ao longo de um semestre, e calcule a sua média. A atribuição de conceitos obedece à tabela abaixo:\n",
        "\n",
        "```\n",
        "Média de Aproveitamento  Conceito\n",
        "  Entre 9.0 e 10.0        A\n",
        "  Entre 7.5 e 9.0         B\n",
        "  Entre 6.0 e 7.5         C\n",
        "  Entre 4.0 e 6.0         D\n",
        "  Entre 4.0 e zero        E\n",
        "```\n",
        "\n",
        "O algoritmo deve mostrar na tela as notas, a média, o conceito correspondente e a mensagem “APROVADO” se o conceito for A, B ou C ou “REPROVADO” se o conceito for D ou E.\n"
      ],
      "metadata": {
        "id": "_t0FYEcazXPo"
      }
    },
    {
      "cell_type": "code",
      "source": [
        "# Para executar o código, basta clicar no 'play' à esquerda.\n",
        "# Faça seu código abaixo:\n",
        "\n"
      ],
      "metadata": {
        "id": "qHlOhjYByShP"
      },
      "execution_count": null,
      "outputs": []
    },
    {
      "cell_type": "markdown",
      "source": [
        "12. Faça um programa para uma loja de tintas. O programa deverá pedir o tamanho em metros quadrados da área a ser pintada. Considere que a cobertura da tinta é de 1 litro para cada 3 metros quadrados e que a tinta é vendida em latas de 18 litros, que custam R$ 80,00. Informe ao usuário a quantidades de latas de tinta a serem compradas e o preço total."
      ],
      "metadata": {
        "id": "D_zqlU3Gzmx9"
      }
    },
    {
      "cell_type": "code",
      "source": [
        "# Para executar o código, basta clicar no 'play' à esquerda.\n",
        "# Faça seu código abaixo:\n",
        "\n"
      ],
      "metadata": {
        "id": "WYHCB5X0ySzf"
      },
      "execution_count": null,
      "outputs": []
    },
    {
      "cell_type": "markdown",
      "source": [
        "13. Faça um programa que mostre os n termos da Série a seguir:\n",
        "\n",
        "> S = 1/1 + 2/3 + 3/5 + 4/7 + 5/9 + ... + n/m.\n",
        "\n",
        "Imprima no final a soma da série."
      ],
      "metadata": {
        "id": "lY3Mro5SzzBW"
      }
    },
    {
      "cell_type": "code",
      "source": [
        "# Para executar o código, basta clicar no 'play' à esquerda.\n",
        "# Faça seu código abaixo:\n",
        "\n"
      ],
      "metadata": {
        "id": "9iFtv2eCyTFr"
      },
      "execution_count": null,
      "outputs": []
    },
    {
      "cell_type": "markdown",
      "source": [
        "### Funções"
      ],
      "metadata": {
        "id": "G88Z2t-K0Cjl"
      }
    },
    {
      "cell_type": "markdown",
      "source": [
        "1. Faça um programa, com uma função que necessite de três argumentos, e que forneça a soma desses três argumentos."
      ],
      "metadata": {
        "id": "mhU6Qmx30HEV"
      }
    },
    {
      "cell_type": "code",
      "source": [
        "# Para executar o código, basta clicar no 'play' à esquerda.\n",
        "# Faça seu código abaixo:\n",
        "\n"
      ],
      "metadata": {
        "id": "FgTfEBD8yTXu"
      },
      "execution_count": null,
      "outputs": []
    },
    {
      "cell_type": "markdown",
      "source": [
        "2. Faça um programa, com uma função que necessite de um argumento. A função retorna o valor de caractere `P`, se seu argumento for positivo, e `N`, se seu argumento for zero ou negativo."
      ],
      "metadata": {
        "id": "t1vlTgt00Jcv"
      }
    },
    {
      "cell_type": "code",
      "source": [
        "# Para executar o código, basta clicar no 'play' à esquerda.\n",
        "# Faça seu código abaixo:\n",
        "\n"
      ],
      "metadata": {
        "id": "1W9WiWbayTnD"
      },
      "execution_count": null,
      "outputs": []
    },
    {
      "cell_type": "markdown",
      "source": [
        "3. Faça uma função que informe a quantidade de dígitos de um determinado número inteiro informado."
      ],
      "metadata": {
        "id": "apWcu7zK0T9M"
      }
    },
    {
      "cell_type": "code",
      "source": [
        "# Para executar o código, basta clicar no 'play' à esquerda.\n",
        "# Faça seu código abaixo:\n",
        "\n"
      ],
      "metadata": {
        "id": "t1kUTc2gyT6j"
      },
      "execution_count": null,
      "outputs": []
    },
    {
      "cell_type": "markdown",
      "source": [
        "4. Reverso do número. Faça uma função que retorne o reverso de um número inteiro informado. Por exemplo: 127 -> 721."
      ],
      "metadata": {
        "id": "1JBWETSo0WBt"
      }
    },
    {
      "cell_type": "code",
      "source": [
        "# Para executar o código, basta clicar no 'play' à esquerda.\n",
        "# Faça seu código abaixo:\n",
        "\n"
      ],
      "metadata": {
        "id": "vKDDf2RMyULL"
      },
      "execution_count": null,
      "outputs": []
    },
    {
      "cell_type": "markdown",
      "source": [
        "5. Quadrado mágico. Um quadrado mágico é aquele dividido em linhas e colunas, com um número em cada posição e no qual a soma das linhas, colunas e diagonais é a mesma. Por exemplo, veja um quadrado mágico de lado 3, com números de 1 a 9:\n",
        "\n",
        "```\n",
        "8  3  4 \n",
        "1  5  9\n",
        "6  7  2\n",
        "```\n",
        "\n",
        "Elabore uma função que identifica e mostra na tela todos os quadrados mágicos com as características acima. Dica: produza todas as combinações possíveis e verifique a soma quando completar cada quadrado. Usar um vetor de 1 a 9 parece ser mais simples que usar uma matriz 3x3."
      ],
      "metadata": {
        "id": "7DgzUyJK0aFy"
      }
    },
    {
      "cell_type": "code",
      "source": [
        "# Para executar o código, basta clicar no 'play' à esquerda.\n",
        "# Faça seu código abaixo:\n",
        "\n"
      ],
      "metadata": {
        "id": "0qIZ_hFDyUbD"
      },
      "execution_count": null,
      "outputs": []
    },
    {
      "cell_type": "markdown",
      "source": [
        "### Listas"
      ],
      "metadata": {
        "id": "IJKsrUbkLyzs"
      }
    },
    {
      "cell_type": "markdown",
      "source": [
        "1. Faça um Programa que leia um vetor de 5 números inteiros e mostre-os."
      ],
      "metadata": {
        "id": "zAlFKperL1-M"
      }
    },
    {
      "cell_type": "code",
      "source": [
        "# Para executar o código, basta clicar no 'play' à esquerda.\n",
        "# Faça seu código abaixo:\n",
        "\n"
      ],
      "metadata": {
        "id": "v24gIwsRyUq8"
      },
      "execution_count": null,
      "outputs": []
    },
    {
      "cell_type": "markdown",
      "source": [
        "2. Faça um Programa que leia 4 notas, mostre as notas e a média na tela."
      ],
      "metadata": {
        "id": "xBmqNzUFL5jk"
      }
    },
    {
      "cell_type": "code",
      "source": [
        "# Para executar o código, basta clicar no 'play' à esquerda.\n",
        "# Faça seu código abaixo:\n",
        "\n"
      ],
      "metadata": {
        "id": "fKg3XS6nyU-K"
      },
      "execution_count": null,
      "outputs": []
    },
    {
      "cell_type": "markdown",
      "source": [
        "3. Faça um Programa que leia 20 números inteiros e armazene-os num vetor. Armazene os números pares no vetor PAR e os números IMPARES no vetor impar. Imprima os três vetores."
      ],
      "metadata": {
        "id": "UtOd_6VCL9Ze"
      }
    },
    {
      "cell_type": "code",
      "source": [
        "# Para executar o código, basta clicar no 'play' à esquerda.\n",
        "# Faça seu código abaixo:\n",
        "\n"
      ],
      "metadata": {
        "id": "aeVL_L7pyVNP"
      },
      "execution_count": null,
      "outputs": []
    },
    {
      "cell_type": "markdown",
      "source": [
        "4. Em uma competição de salto em distância cada atleta tem direito a cinco saltos. O resultado do atleta será determinado pela média dos cinco valores restantes. Você deve fazer um programa que receba o nome e as cinco distâncias alcançadas pelo atleta em seus saltos e depois informe o nome, os saltos e a média dos saltos. O programa deve ser encerrado quando não for informado o nome do atleta. A saída do programa deve ser conforme o exemplo abaixo:\n",
        "\n",
        "\n",
        "\n",
        "```\n",
        "Atleta: Rodrigo Curvêllo\n",
        " \n",
        "Primeiro Salto: 6.5 m\n",
        "Segundo Salto: 6.1 m\n",
        "Terceiro Salto: 6.2 m\n",
        "Quarto Salto: 5.4 m\n",
        "Quinto Salto: 5.3 m\n",
        "\n",
        "Resultado final:\n",
        "Atleta: Rodrigo Curvêllo\n",
        "Saltos: 6.5 - 6.1 - 6.2 - 5.4 - 5.3\n",
        "Média dos saltos: 5.9 m\n",
        "```\n",
        "\n"
      ],
      "metadata": {
        "id": "D2bxCoLtMA2e"
      }
    },
    {
      "cell_type": "code",
      "source": [
        "# Para executar o código, basta clicar no 'play' à esquerda.\n",
        "# Faça seu código abaixo:\n"
      ],
      "metadata": {
        "id": "pJ3nBLL2yVib"
      },
      "execution_count": null,
      "outputs": []
    }
  ]
}